{
 "cells": [
  {
   "cell_type": "code",
   "execution_count": 1,
   "metadata": {},
   "outputs": [],
   "source": [
    "class BinaryTree:\n",
    "    \n",
    "    def __init__(self, root_node = None):\n",
    "        # Check out Use Me section to find out Node Structure\n",
    "        self.root = root_node\n",
    "    \n",
    "    # Helper Method    \n",
    "    def size(self,root):\n",
    "        if root == None:\n",
    "            return 0\n",
    "        else:\n",
    "            return (self.size(root.left_child) + 1 + self.size(root.right_child)) \n",
    "        \n",
    "    def find_kth_smallest(self,root,k):\n",
    "        # Return element should be of Type TreeNode\n",
    "        if not self.root:\n",
    "            return None\n",
    "            \n",
    "        if root.left_child:\n",
    "            root_left = self.size(root.left_child)\n",
    "            if root_left == k - 1:\n",
    "                return self.root\n",
    "            \n",
    "            elif root_left > k:\n",
    "                return self.find_kth_smallest(root.left_child, k)\n",
    "            \n",
    "            else:\n",
    "                return self.find_kth_smallest(root.right_child, k - root_left - 1)"
   ]
  },
  {
   "cell_type": "code",
   "execution_count": 6,
   "metadata": {},
   "outputs": [],
   "source": [
    "def find_kth_smallest(self,root,k):\n",
    "        # Return element should be of Type TreeNode\n",
    "    if root == None:\n",
    "        return None\n",
    "        \n",
    "    left_size = 0\n",
    "    \n",
    "    if root.left_child != None:\n",
    "        left_size = self.size(root.left_child)\n",
    "        \n",
    "    if left_size == k - 1:\n",
    "        return root\n",
    "    \n",
    "    if left_size >= k:\n",
    "        return self.find_kth_smallest(root.left_child, k) \n",
    "    \n",
    "    else:\n",
    "        return self.find_kth_smallest(root.right_child, k - left_size - 1)"
   ]
  },
  {
   "cell_type": "code",
   "execution_count": null,
   "metadata": {},
   "outputs": [],
   "source": []
  }
 ],
 "metadata": {
  "kernelspec": {
   "display_name": "Python 3",
   "language": "python",
   "name": "python3"
  },
  "language_info": {
   "codemirror_mode": {
    "name": "ipython",
    "version": 3
   },
   "file_extension": ".py",
   "mimetype": "text/x-python",
   "name": "python",
   "nbconvert_exporter": "python",
   "pygments_lexer": "ipython3",
   "version": "3.7.3"
  }
 },
 "nbformat": 4,
 "nbformat_minor": 4
}
