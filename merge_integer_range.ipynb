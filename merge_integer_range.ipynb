{
 "cells": [
  {
   "cell_type": "code",
   "execution_count": null,
   "metadata": {},
   "outputs": [],
   "source": [
    "def merge_ranges(input_range_list):\n",
    "    if (input_range_list == None or len(input_range_list) <= 1):\n",
    "        return input_range_list\n",
    "    output_list = []\n",
    "    previous = input_range_list[0]\n",
    "    i = 1\n",
    "    while i < len(input_range_list):\n",
    "        current = input_range_list[i]\n",
    "        if previous.upper_bound >= current.lower_bound:\n",
    "            merged = Range(previous.lower_bound, max(previous.upper_bound, current.upper_bound));\n",
    "            previous = merged\n",
    "        else:\n",
    "            output_list.append(previous)\n",
    "            previous = current\n",
    "        i += 1\n",
    "        \n",
    "    output_list.append(previous)\n",
    "    return output_list"
   ]
  },
  {
   "cell_type": "code",
   "execution_count": 4,
   "metadata": {},
   "outputs": [
    {
     "name": "stdout",
     "output_type": "stream",
     "text": [
      "a works\n",
      "b doesn't work\n"
     ]
    }
   ],
   "source": [
    "a = [[3,4]]\n",
    "b = []\n",
    "if a:\n",
    "    print('a works')\n",
    "\n",
    "if not b:\n",
    "    print(\"b doesn't work\")"
   ]
  },
  {
   "cell_type": "code",
   "execution_count": 5,
   "metadata": {},
   "outputs": [
    {
     "data": {
      "text/plain": [
       "True"
      ]
     },
     "execution_count": 5,
     "metadata": {},
     "output_type": "execute_result"
    }
   ],
   "source": [
    "3 in range(5)"
   ]
  },
  {
   "cell_type": "code",
   "execution_count": 7,
   "metadata": {},
   "outputs": [
    {
     "data": {
      "text/plain": [
       "True"
      ]
     },
     "execution_count": 7,
     "metadata": {},
     "output_type": "execute_result"
    }
   ],
   "source": [
    "3 in range(2,10)"
   ]
  },
  {
   "cell_type": "code",
   "execution_count": null,
   "metadata": {},
   "outputs": [],
   "source": []
  }
 ],
 "metadata": {
  "kernelspec": {
   "display_name": "Python 3",
   "language": "python",
   "name": "python3"
  },
  "language_info": {
   "codemirror_mode": {
    "name": "ipython",
    "version": 3
   },
   "file_extension": ".py",
   "mimetype": "text/x-python",
   "name": "python",
   "nbconvert_exporter": "python",
   "pygments_lexer": "ipython3",
   "version": "3.7.3"
  }
 },
 "nbformat": 4,
 "nbformat_minor": 4
}
